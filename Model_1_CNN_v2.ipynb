{
  "nbformat": 4,
  "nbformat_minor": 0,
  "metadata": {
    "colab": {
      "provenance": []
    },
    "kernelspec": {
      "name": "python3",
      "display_name": "Python 3"
    },
    "language_info": {
      "name": "python"
    }
  },
  "cells": [
    {
      "cell_type": "code",
      "source": [
        "import numpy as np\n",
        "import tensorflow as tf\n",
        "from tensorflow.keras import layers, models\n",
        "from tensorflow.keras.preprocessing.image import ImageDataGenerator\n",
        "from tensorflow.keras.preprocessing.image import load_img, img_to_array\n",
        "\n",
        "# 1. Hyperparameters\n",
        "BATCH_SIZE = 64\n",
        "EPOCHS = 10  # Increase for better results\n",
        "NUM_CLASSES = 10  # CIFAR-10 has 10 categories\n",
        "INPUT_SHAPE = (32, 32, 3)  # Each CIFAR-10 image is 32x32x3\n",
        "\n",
        "# 2. Load the CIFAR-10 dataset\n",
        "(x_train, y_train), (x_test, y_test) = tf.keras.datasets.cifar10.load_data()\n",
        "\n",
        "# 3. Preprocessing / Normalization\n",
        "# We can normalize pixel values by dividing by 255.0.\n",
        "x_train = x_train.astype('float32') / 255.0\n",
        "x_test  = x_test.astype('float32')  / 255.0\n",
        "\n",
        "# y_train and y_test are shape (n, 1) with integer labels [0..9].\n",
        "# We'll use sparse_categorical_crossentropy, so no need to one-hot encode.\n",
        "\n",
        "# 4. Data Augmentation\n",
        "# We'll do on-the-fly augmentation for the training set using ImageDataGenerator.\n",
        "train_datagen = ImageDataGenerator(\n",
        "    rotation_range=15,\n",
        "    width_shift_range=0.1,\n",
        "    height_shift_range=0.1,\n",
        "    horizontal_flip=True\n",
        ")\n",
        "\n",
        "# For validation, we usually just normalize (already done), so we can use a simple generator.\n",
        "val_datagen = ImageDataGenerator()\n",
        "\n",
        "# Flow training images in batches of BATCH_SIZE using train_datagen generator\n",
        "train_generator = train_datagen.flow(\n",
        "    x_train, y_train,\n",
        "    batch_size=BATCH_SIZE\n",
        ")\n",
        "\n",
        "# Flow test images using val_datagen (no augmentation)\n",
        "val_generator = val_datagen.flow(\n",
        "    x_test, y_test,\n",
        "    batch_size=BATCH_SIZE\n",
        ")\n",
        "\n",
        "# 5. Build a Simple CNN Model\n",
        "model = models.Sequential([\n",
        "    # Convolutional Block 1\n",
        "    layers.Conv2D(32, (3, 3), activation='relu', input_shape=INPUT_SHAPE),\n",
        "    layers.MaxPooling2D((2, 2)),\n",
        "\n",
        "    # Convolutional Block 2\n",
        "    layers.Conv2D(64, (3, 3), activation='relu'),\n",
        "    layers.MaxPooling2D((2, 2)),\n",
        "\n",
        "    # Convolutional Block 3\n",
        "    layers.Conv2D(128, (3, 3), activation='relu'),\n",
        "    layers.MaxPooling2D((2, 2)),\n",
        "\n",
        "    # Flatten + Dense Layers\n",
        "    layers.Flatten(),\n",
        "    layers.Dense(128, activation='relu'),\n",
        "    layers.Dropout(0.5),  # Helps reduce overfitting\n",
        "    layers.Dense(NUM_CLASSES, activation='softmax')  # 10 neurons for 10 classes\n",
        "])\n",
        "\n",
        "# 6. Compile the Model\n",
        "# We use 'sparse_categorical_crossentropy' since labels are integers [0..9].\n",
        "model.compile(\n",
        "    loss='sparse_categorical_crossentropy',\n",
        "    optimizer='adam',\n",
        "    metrics=['accuracy']\n",
        ")\n",
        "\n",
        "# 7. Training\n",
        "history = model.fit(\n",
        "    train_generator,\n",
        "    epochs=EPOCHS,\n",
        "    validation_data=val_generator\n",
        ")\n",
        "\n",
        "# 8. Evaluate on the Test Set\n",
        "test_loss, test_acc = model.evaluate(val_generator, verbose=2)\n",
        "print(f\"Test Loss: {test_loss:.4f}\")\n",
        "print(f\"Test Accuracy: {test_acc:.4f}\")\n",
        "\n",
        "# 9. Save the Model\n",
        "model.save(\"cifar10_cnn.h5\")"
      ],
      "metadata": {
        "colab": {
          "base_uri": "https://localhost:8080/"
        },
        "id": "Gyc8zfpUtj3L",
        "outputId": "bba75e42-7d3c-4391-c787-9947a6848bca"
      },
      "execution_count": 1,
      "outputs": [
        {
          "output_type": "stream",
          "name": "stdout",
          "text": [
            "Downloading data from https://www.cs.toronto.edu/~kriz/cifar-10-python.tar.gz\n",
            "\u001b[1m170498071/170498071\u001b[0m \u001b[32m━━━━━━━━━━━━━━━━━━━━\u001b[0m\u001b[37m\u001b[0m \u001b[1m2s\u001b[0m 0us/step\n"
          ]
        },
        {
          "output_type": "stream",
          "name": "stderr",
          "text": [
            "/usr/local/lib/python3.11/dist-packages/keras/src/layers/convolutional/base_conv.py:107: UserWarning: Do not pass an `input_shape`/`input_dim` argument to a layer. When using Sequential models, prefer using an `Input(shape)` object as the first layer in the model instead.\n",
            "  super().__init__(activity_regularizer=activity_regularizer, **kwargs)\n",
            "/usr/local/lib/python3.11/dist-packages/keras/src/trainers/data_adapters/py_dataset_adapter.py:121: UserWarning: Your `PyDataset` class should call `super().__init__(**kwargs)` in its constructor. `**kwargs` can include `workers`, `use_multiprocessing`, `max_queue_size`. Do not pass these arguments to `fit()`, as they will be ignored.\n",
            "  self._warn_if_super_not_called()\n"
          ]
        },
        {
          "output_type": "stream",
          "name": "stdout",
          "text": [
            "Epoch 1/10\n",
            "\u001b[1m782/782\u001b[0m \u001b[32m━━━━━━━━━━━━━━━━━━━━\u001b[0m\u001b[37m\u001b[0m \u001b[1m106s\u001b[0m 132ms/step - accuracy: 0.2491 - loss: 2.0006 - val_accuracy: 0.4706 - val_loss: 1.4276\n",
            "Epoch 2/10\n",
            "\u001b[1m782/782\u001b[0m \u001b[32m━━━━━━━━━━━━━━━━━━━━\u001b[0m\u001b[37m\u001b[0m \u001b[1m105s\u001b[0m 134ms/step - accuracy: 0.4394 - loss: 1.5348 - val_accuracy: 0.5284 - val_loss: 1.2971\n",
            "Epoch 3/10\n",
            "\u001b[1m782/782\u001b[0m \u001b[32m━━━━━━━━━━━━━━━━━━━━\u001b[0m\u001b[37m\u001b[0m \u001b[1m107s\u001b[0m 137ms/step - accuracy: 0.5025 - loss: 1.3718 - val_accuracy: 0.5987 - val_loss: 1.1276\n",
            "Epoch 4/10\n",
            "\u001b[1m782/782\u001b[0m \u001b[32m━━━━━━━━━━━━━━━━━━━━\u001b[0m\u001b[37m\u001b[0m \u001b[1m137s\u001b[0m 131ms/step - accuracy: 0.5438 - loss: 1.2838 - val_accuracy: 0.6183 - val_loss: 1.0752\n",
            "Epoch 5/10\n",
            "\u001b[1m782/782\u001b[0m \u001b[32m━━━━━━━━━━━━━━━━━━━━\u001b[0m\u001b[37m\u001b[0m \u001b[1m106s\u001b[0m 136ms/step - accuracy: 0.5703 - loss: 1.2119 - val_accuracy: 0.6344 - val_loss: 1.0261\n",
            "Epoch 6/10\n",
            "\u001b[1m782/782\u001b[0m \u001b[32m━━━━━━━━━━━━━━━━━━━━\u001b[0m\u001b[37m\u001b[0m \u001b[1m139s\u001b[0m 132ms/step - accuracy: 0.5917 - loss: 1.1625 - val_accuracy: 0.6451 - val_loss: 1.0009\n",
            "Epoch 7/10\n",
            "\u001b[1m782/782\u001b[0m \u001b[32m━━━━━━━━━━━━━━━━━━━━\u001b[0m\u001b[37m\u001b[0m \u001b[1m104s\u001b[0m 132ms/step - accuracy: 0.6091 - loss: 1.1196 - val_accuracy: 0.6764 - val_loss: 0.9225\n",
            "Epoch 8/10\n",
            "\u001b[1m782/782\u001b[0m \u001b[32m━━━━━━━━━━━━━━━━━━━━\u001b[0m\u001b[37m\u001b[0m \u001b[1m105s\u001b[0m 135ms/step - accuracy: 0.6232 - loss: 1.0783 - val_accuracy: 0.6831 - val_loss: 0.9129\n",
            "Epoch 9/10\n",
            "\u001b[1m782/782\u001b[0m \u001b[32m━━━━━━━━━━━━━━━━━━━━\u001b[0m\u001b[37m\u001b[0m \u001b[1m140s\u001b[0m 132ms/step - accuracy: 0.6331 - loss: 1.0523 - val_accuracy: 0.6949 - val_loss: 0.8758\n",
            "Epoch 10/10\n",
            "\u001b[1m782/782\u001b[0m \u001b[32m━━━━━━━━━━━━━━━━━━━━\u001b[0m\u001b[37m\u001b[0m \u001b[1m103s\u001b[0m 132ms/step - accuracy: 0.6444 - loss: 1.0237 - val_accuracy: 0.7051 - val_loss: 0.8547\n",
            "157/157 - 4s - 24ms/step - accuracy: 0.7051 - loss: 0.8547\n"
          ]
        },
        {
          "output_type": "stream",
          "name": "stderr",
          "text": [
            "WARNING:absl:You are saving your model as an HDF5 file via `model.save()` or `keras.saving.save_model(model)`. This file format is considered legacy. We recommend using instead the native Keras format, e.g. `model.save('my_model.keras')` or `keras.saving.save_model(model, 'my_model.keras')`. \n"
          ]
        },
        {
          "output_type": "stream",
          "name": "stdout",
          "text": [
            "Test Loss: 0.8547\n",
            "Test Accuracy: 0.7051\n"
          ]
        }
      ]
    },
    {
      "cell_type": "code",
      "execution_count": 2,
      "metadata": {
        "colab": {
          "base_uri": "https://localhost:8080/"
        },
        "id": "MSNGAh2FtcMb",
        "outputId": "d05a6423-7527-4396-c375-6b724b02f435"
      },
      "outputs": [
        {
          "output_type": "stream",
          "name": "stderr",
          "text": [
            "WARNING:absl:Compiled the loaded model, but the compiled metrics have yet to be built. `model.compile_metrics` will be empty until you train or evaluate the model.\n"
          ]
        },
        {
          "output_type": "stream",
          "name": "stdout",
          "text": [
            "\u001b[1m1/1\u001b[0m \u001b[32m━━━━━━━━━━━━━━━━━━━━\u001b[0m\u001b[37m\u001b[0m \u001b[1m0s\u001b[0m 140ms/step\n",
            "Raw predictions: [[9.0082418e-03 6.8865746e-01 1.2414565e-05 6.8225013e-08 1.8211622e-08\n",
            "  8.6944087e-09 1.7472783e-07 4.1592550e-08 4.0930035e-04 3.0191231e-01]]\n",
            "Predicted class index: 1\n",
            "Predicted class label: automobile\n"
          ]
        }
      ],
      "source": [
        "# Making a prediction using the saved model\n",
        "import tensorflow as tf\n",
        "import numpy as np\n",
        "from tensorflow.keras.preprocessing.image import load_img, img_to_array\n",
        "\n",
        "# 1. Load the model\n",
        "model = tf.keras.models.load_model(\"cifar10_cnn.h5\")\n",
        "\n",
        "# 2. Class labels for CIFAR-10\n",
        "cifar10_classes = [\n",
        "    \"airplane\", \"automobile\", \"bird\", \"cat\", \"deer\",\n",
        "    \"dog\", \"frog\", \"horse\", \"ship\", \"truck\"\n",
        "]\n",
        "\n",
        "# 3. Path to the new image\n",
        "image_path = \"/content/Merc_11.jpeg\"\n",
        "\n",
        "# 4. Load & preprocess\n",
        "img = load_img(image_path, target_size=(32, 32))\n",
        "img_array = img_to_array(img)\n",
        "img_array = img_array / 255.0\n",
        "img_array = np.expand_dims(img_array, axis=0)\n",
        "\n",
        "# 5. Predict\n",
        "predictions = model.predict(img_array)  # shape: (1, 10) because there are 10 classes\n",
        "predicted_index = np.argmax(predictions[0]) # index of the maximum value in predictions array\n",
        "predicted_class = cifar10_classes[predicted_index]\n",
        "\n",
        "print(\"Raw predictions:\", predictions)\n",
        "print(\"Predicted class index:\", predicted_index)\n",
        "print(\"Predicted class label:\", predicted_class)\n"
      ]
    }
  ]
}