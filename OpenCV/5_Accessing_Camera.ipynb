{
 "cells": [
  {
   "cell_type": "code",
   "execution_count": 3,
   "id": "0f5047db-bee0-4a29-a225-9b59c5aebb76",
   "metadata": {},
   "outputs": [],
   "source": [
    "# Save this as a Python script, then run the script in the terminal for open-cv-env\n",
    "import cv2\n",
    "import sys\n",
    "\n",
    "# Default camera index = 1\n",
    "s = 0\n",
    "if len(sys.argv) > 1:\n",
    "    s = sys.argv[1]\n",
    "\n",
    "source = cv2.VideoCapture(s)\n",
    "\n",
    "win_name = 'Camera Preview'\n",
    "cv2.namedWindow(win_name, cv2.WINDOW_NORMAL)\n",
    "\n",
    "# Continuously stream video from the camera unless user hits escape key\n",
    "while cv2.waitKey(1) != 27: # Escape key\n",
    "    \n",
    "    has_frame, frame = source.read()\n",
    "    if not has_frame:\n",
    "        break\n",
    "\n",
    "    # Sends the video frame to the output window\n",
    "    cv2.imshow(win_name, frame)\n",
    "\n",
    "source.release()\n",
    "\n",
    "# Close the window that is streaming video from camera\n",
    "cv2.destroyWindow(win_name)"
   ]
  }
 ],
 "metadata": {
  "kernelspec": {
   "display_name": "Python 3 (ipykernel)",
   "language": "python",
   "name": "python3"
  },
  "language_info": {
   "codemirror_mode": {
    "name": "ipython",
    "version": 3
   },
   "file_extension": ".py",
   "mimetype": "text/x-python",
   "name": "python",
   "nbconvert_exporter": "python",
   "pygments_lexer": "ipython3",
   "version": "3.12.11"
  }
 },
 "nbformat": 4,
 "nbformat_minor": 5
}
